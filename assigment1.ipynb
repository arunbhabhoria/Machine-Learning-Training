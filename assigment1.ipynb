#Q1. Slice the given list:
x = [1, 2, 3, 4, 5, 6, 7, 8, 9, 10, 11, 12, 13, 14, 15, 16]
         #1. by using slicing from the front (positive)
print(x[7:12])
         #2. by using slicing from the back (negative)
print(x[-9:-4])
