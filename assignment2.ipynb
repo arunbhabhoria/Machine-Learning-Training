{
 "cells": [
  {
   "cell_type": "code",
   "execution_count": 17,
   "metadata": {},
   "outputs": [
    {
     "name": "stdout",
     "output_type": "stream",
     "text": [
      "Mean: 0.49544027813144387\n"
     ]
    }
   ],
   "source": [
    "'''\n",
    "   Q1. Create a numpy array with 10 elements of the shape(10,1) using np.random \n",
    "       and find out the mean of the elements using basic numpy functions.\n",
    "'''\n",
    "\n",
    "import numpy as np\n",
    "from array import *\n",
    "a=np.random.rand(10,1) # random array of shape(10,1)\n",
    "m=np.mean(a)\n",
    "print(\"Mean:\",m)"
   ]
  },
  {
   "cell_type": "code",
   "execution_count": 18,
   "metadata": {},
   "outputs": [
    {
     "name": "stdout",
     "output_type": "stream",
     "text": [
      "Variance: 0.0728011190581386\n",
      "Standard deviation: 0.269816825009373\n"
     ]
    }
   ],
   "source": [
    "'''\n",
    "   Q.2 Create a numpy array with 20 elements of the shape(20,1) \n",
    "   using np.random find the variance and standard deviation of the elements. \n",
    "'''\n",
    "import numpy as np\n",
    "from array import *\n",
    "a=np.random.rand(20,1) # random array of shape(20,1)\n",
    "v=np.var(a)\n",
    "s=np.std(a)\n",
    "print(\"Variance:\", v)\n",
    "print(\"Standard deviation:\",s)\n"
   ]
  },
  {
   "cell_type": "code",
   "execution_count": 25,
   "metadata": {},
   "outputs": [
    {
     "name": "stdout",
     "output_type": "stream",
     "text": [
      "137811\n"
     ]
    }
   ],
   "source": [
    "'''\n",
    "   Q.3 Create a numpy array A of shape(10,20) and B of shape (20,25) using np.random.\n",
    "       Print the matrix which is the matrix multiplication of A and B. The shape of the new matrix should be (10,25).\n",
    "       Using basic numpy math functions only find the sum of all the elements of the new matrix. \n",
    "'''\n",
    "\n",
    "A = np.random.randint(10, size=(10, 20))\n",
    "B = np.random.randint(10, size=(20, 35))\n",
    "C = np.matmul(A,B)\n",
    "print(C.sum())"
   ]
  },
  {
   "cell_type": "code",
   "execution_count": null,
   "metadata": {},
   "outputs": [],
   "source": [
    "'''\n",
    "   Q.4 Create a numpy array A of shape(10,1).\n",
    "   Using the basic operations of the numpy array generate an array of shape(10,1) \n",
    "   such that each element is the following function applied on each element of A:\n",
    "                               f(x)=1 / (1 + exp(-x)) \n",
    "   Apply this function to each element of A and print the new array holding the value the function returns\n",
    "'''\n",
    "import math\n",
    "def fx(x):\n",
    "    return (1/(1+math.exp(-x)))\n",
    "\n",
    "A = np.random.randint(10,size=(10,1))   \n",
    "B = []\n",
    "for i in A:\n",
    "    B.append(fx(i))         \n",
    "print(B)"
   ]
  }
 ],
 "metadata": {
  "kernelspec": {
   "display_name": "Python 3",
   "language": "python",
   "name": "python3"
  },
  "language_info": {
   "codemirror_mode": {
    "name": "ipython",
    "version": 3
   },
   "file_extension": ".py",
   "mimetype": "text/x-python",
   "name": "python",
   "nbconvert_exporter": "python",
   "pygments_lexer": "ipython3",
   "version": "3.7.0"
  }
 },
 "nbformat": 4,
 "nbformat_minor": 2
}
